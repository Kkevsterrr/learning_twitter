{
 "cells": [
  {
   "cell_type": "code",
   "execution_count": 33,
   "metadata": {
    "collapsed": true
   },
   "outputs": [],
   "source": [
    "import collections\n",
    "import re\n",
    "from pprint import PrettyPrinter\n",
    "import json\n",
    "import sys\n",
    "import string\n",
    "import unicodedata as ud\n",
    "from tweepy.streaming import StreamListener\n",
    "from tweepy import OAuthHandler\n",
    "from tweepy import Stream\n",
    "from TwitterSearch import *\n",
    "import matplotlib.pyplot as plt\n",
    "import numpy as np\n",
    "from sklearn import datasets, linear_model\n",
    "import twitter\n",
    "import twitter.parse_tweet\n",
    "import nltk\n",
    "from __future__ import print_function\n",
    "from keras.models import Sequential\n",
    "from keras.layers.core import Dense, Activation, Dropout\n",
    "from keras.layers.recurrent import LSTM\n",
    "from keras.datasets.data_utils import get_file\n",
    "import random"
   ]
  },
  {
   "cell_type": "code",
   "execution_count": 10,
   "metadata": {
    "collapsed": true
   },
   "outputs": [],
   "source": [
    "def write(s):\n",
    "    sys.stdout.write(s)\n",
    "    sys.stdout.flush()"
   ]
  },
  {
   "cell_type": "code",
   "execution_count": 54,
   "metadata": {
    "collapsed": true
   },
   "outputs": [],
   "source": [
    "def sample(a, temperature=1.0):\n",
    "    # helper function to sample an index from a probability array\n",
    "    a = np.log(a) / temperature\n",
    "    a = np.exp(a) / np.sum(np.exp(a))\n",
    "    return np.argmax(np.random.multinomial(1, a, 1))"
   ]
  },
  {
   "cell_type": "code",
   "execution_count": 95,
   "metadata": {
    "collapsed": true
   },
   "outputs": [],
   "source": [
    "total_tweets = 300000\n",
    "maxlen = 20\n",
    "step = 3\n",
    "epochs = 60"
   ]
  },
  {
   "cell_type": "code",
   "execution_count": 96,
   "metadata": {
    "collapsed": true
   },
   "outputs": [],
   "source": [
    "def search():\n",
    "    \n",
    "    tw = []\n",
    "    try:\n",
    "        tso = TwitterSearchOrder() # create a TwitterSearchOrder object\n",
    "        tso.set_keywords([' ']) # let's define all search keywords - now, we want all tweets with a space in them\n",
    "        tso.set_language('en') # we want to see english tweets only\n",
    "        tso.set_include_entities(False) # and don't give us all those entity information\n",
    "        ts = TwitterSearch(consumer_key = 'zg9yQTGTT2oizk3XLMHGLzfpJ',\n",
    "                      consumer_secret = 'nmiwqRpWDX0oxTCUTro8sPeUVUXIZHW9O1VZcTb0mLyfHw51sc',\n",
    "                      access_token = '700001043-oxm3LZ72y4WmWGRqY66QjV0SzZoHGy5OGgwic26M',\n",
    "                      access_token_secret = 'hGJZWTb5bjGFSiuIQrff5UajKdlyXcp7Lyun5SJzq05Su')\n",
    "        i = 0\n",
    "        for tweet in ts.search_tweets_iterable(tso):\n",
    "            #if (tweet['retweet_count'] != 0):\n",
    "            #tw.append((len(tweet['text'].split()), tweet['retweet_count']))\n",
    "            #print(str(i))\n",
    "            #backspace(len(str(i)))\n",
    "            tw += (tweet['text'])\n",
    "            write(\"\\rIngesting tweet %d/%d...\" % (i, total_tweets))\n",
    "            if i == total_tweets:\n",
    "                break\n",
    "            i += 1\n",
    "        chars = set(\"\".join(tw))\n",
    "        return tw,chars\n",
    "            #print tw\n",
    "            #print( '%s: @%s tweeted: %s' % ( tweet['retweet_count'], tweet['user']['screen_name'], tweet['text'] ) )\n",
    "            # print # of retweents, tweeter, and content of tweet\n",
    "    except TwitterSearchException as e: # take care of all those ugly errors if there are some\n",
    "        print(e)"
   ]
  },
  {
   "cell_type": "code",
   "execution_count": 97,
   "metadata": {
    "collapsed": false
   },
   "outputs": [
    {
     "name": "stdout",
     "output_type": "stream",
     "text": [
      "Ingesting tweet 7895/300000..."
     ]
    }
   ],
   "source": [
    "text,chars = search()\n",
    "text = \"\".join(text)"
   ]
  },
  {
   "cell_type": "code",
   "execution_count": 90,
   "metadata": {
    "collapsed": false
   },
   "outputs": [
    {
     "data": {
      "text/plain": [
       "u'RT @TheLoungeKing: @BrianPardy now I go for 20% urea moisturizer which seems to work well and isn\\'t gross like it sounds.RT @charsfavorite: Gifts for the holidays. /www.etsy.com/shop/Charsfavoritethings #pottiteam https://t.co/pVNZxR1LvERT @StevStiffler: This gets me every time https://t.co/CfD2iZNMNLOhhh but I liked Lou on tattoo fixers\\U0001f615@RaySanityy nah niggaRT @DaydreamBR: Next year!!! https://t.co/mE38T4tfesGet Weather Updates from The Weather Channel. 18:34:54RT @kakimari: THABK YOU OMG THIS IS GORGEOUS @zapptoki https://t.co/xwmWY0x8Pb(2ne1 - I love you) el principal y el coro.\\nhttps://t.co/FjfMmNOK79RT @ObeyVay_: Oh my god https://t.co/LBszorddrVRT @kezzNaughton: no matter what you do youre always going to upset somebody\\U0001f644RT @QuoteBeauties: Accept.... https://t.co/SpP64My5rrRT @WotAustin: no shirt matty https://t.co/jSGz3KieUeLeadership is the art of giving people a platform for sp.eading ideas that work.\" - Seth Godint4 people followed me and 2 people unfollowed me // automatically checked by https://t.co/YVT09H0rpX#SandraBland\\'s arrest during routine traffic stop itself an injustice. On Monday, injustices continued. In solidarity with the Bland family.@fairlyziam hahaha meee but lucky he\\'s always been a cutie but I find it weird to call his fetus days \\'hot\\'Can you all not ever mother fucking drive https://t.co/CcYIGrrJ8fTop story: Google is reportedly developing a chatbot-infused messaging service \\u2026 https://t.co/hpdgokGLKY, see more https://t.co/ukHUSpFRT6@LeftofLeftField @gonelauw @irmss90 @cmaggi10 psycology of human emotions?RT @SalveAdmitGuy: @SincerelyKate_ Sweet! Hope you will make #Newport your home for next 4 years @SalveReginaRT @mirthpurveyor7: @pittgriffin#YouCan\\'tProveHillaryIsLyingUnlessYouCanCrackEncryption.TrumpDOESN\\'TevenHaveToLieToTrashTheGOP. https://t.c\\u2026RT @Naija_Stuff: DailyPostNewsPaper: Our gods will punish those who collect David Mark\\u2019s rice without voting him \\u2013 PDP chieftain https://t.\\u2026@astoldbyjae you need me honeyRT @WeaponPictures: Zombies be ready for when I come! https://t.co/RwtfVZVcJC@Jungkook_BTSJJk done@SteveDownes117 Happy HALOdays Master Chief!RT @byNatDavidson: Dahlia pinnata \\'Sorbet\\'..has amazing spikey blooms with petals tipped with raspberry shades. https://t.co/zqdkX7x0HSRT @joshuachenault1: Drake Bell, what do you mean? https://t.co/9JyreuL1JwAndreasGurl #MTVStarOf2015 Beyonc\\xe9Debbie Rowe has three children.Their names are Frank Nicolas, Prince Jackson, and Paris Jackson. But she never talks about Frank Nicolas.@comeback_story lol you a foolGo Like my page on https://t.co/YILTTsRjqE......Trying not to enter 2016 with 2015 problemsRT @aabaza636: I love sleep. You forget about pain, problems, stress, everything for a while.Im so excited to fill my house with the ones I love. \\u2764 #merrychristmasindeed #interiordesign #interior #instadecor \\u2026 https://t.co/2IZdBMq1duRT @RelatableQuote: when ur haircut doesnt go as planned https://t.co/XmJHUKBmn5Get Weather Updates from The Weather Channel. 18:34:54\"Killing The merca....\" \\U0001f44c\\U0001f3fd -And one :)@chelceyyy_ \\U0001f602trueRT @JustJared: Chelsea Clinton has emerged after announcing her second pregnancy! https://t.co/9duAKkFJla https://t.co/HXof6omd3uim so productive these days its scaring meR. Kell said \"fuck that\" to whoever said they\\'ll listen to his music but won\\'t let him babysit \\U0001f629.[2 FRONT + 2 REAR] Performance Drilled/Slotted Brake Rotors &amp; Pads (MM1096) https://t.co/ufab1og9zi https://t.co/Kw3XCKAd7Mi nominate ozge gurel @ozgecangurel actress from turkish for @tccandler the 100 most beautiful faces 2015 #100FACES https://t.co/LRB3B0PG1kRT @keith33leeds: @cathydestroyer6 @katiemckenzie99 @lebowski_uk Wow, double goody \\U0001f60d\\U0001f60d\\U0001f60dRT @1942bs: He got pulled over and started playing \"Fuck the Police\" lmaooo \\U0001f602 https://t.co/mQm0Zyn558I\\'m preventing my niece from watching minecraft youtubers now.I\\'m ashamed by how much that grammatical error ruins Linklater\\'s trailer for me. \\u201970s not 70\\'s. #EverybodyWantsSome #nerdRT @PrimeTime_DB9: Best Safety in Texas check out his film @TheMcvea!! https://t.co/R19qEjfzUoRT @ForColorado: More bastardization of the election process https://t.co/yiFjxToRZxRT @LawsOfSex: I need a Jaguar Cub \\U0001f914https://t.co/swhi5FePqVif you want to see a fly but frantic\\ncool romantic, more Slick=er than my man Rick@ArranBrewery Guess it\\'s similar to Meantime\\'s deal. I just hope it works out.RT @SexualGif: Wizards of Waverly Place https://t.co/nqoQQeAECCHey @BestBuy your customer service is stellar when they won\\'t allow you to exchange a broken, early Christmas present.RT @ashxbtw: When people say \"just respect my opinion\" when their opinion disrespects someone existence https://t.co/XdpGQzTO6xRT @GiftedVoicess: Justin \\U0001f60d\\U0001f60d\\nhttps://t.co/gTEGLPNCccRT @GirlsDemSugarMG: @ICYTWAT Brah I\\'m fucking dead. Nigga was just racking up max combo hit points.To whoever sent me a giant box of Nerds in the mail, you\\'re a hero. https://t.co/LPF7jRBRQWFood Stamp Beneficiaries Exceed 45 Million for 53 Straight Months https://t.co/lDTSWf0AD7RT @13elieveSG: [PIC] 151222 After \\'Werther\\' Musical - What a nice orange jacket you have there Kyu! ^^ [4P] (Cr:\\u66fa\\u572d\\u8d24\\u5427S2G) https://t.co/3OCh\\u2026https://t.co/tUfP9cVQ4s original 1975 Gibson MARAUDER BLACK!!! https://t.co/2TnHdsyd4VRT @davinespice: What Does Your Date Of Birth Reveal About Your Personality? \\n https://t.co/tahxTGFSdP https://t.co/QBD2MBzKj5@LadyAx3 LMFAOOOOOORT @davinespice: What Does Your Date Of Birth Reveal About Your Personality? \\n https://t.co/tahxTGFSdP https://t.co/QBD2MBzKj5And now back to watching Shine or Go Crazy.RT @notcodyengland: I feel you, Wendy. https://t.co/3cATV16eQ0Coach Lisle Ultimate Hitting Station Christmas Giveaway https://t.co/px31i8naCH via @coachlisleLUSH \\U0001f63bRT @chanelpuke: me all christmas break https://t.co/vFSclTi0xD@HeyGabbyy im chill \\U0001f602pls don\\'t kill me but I\\'ve never watched any Star Wars but I\\'m watching it with my dad to accompany him he\\'s obsessed#SachaBaronCohen Gives Mark Strong a Wedgie https://t.co/tC4Ml3U56W https://t.co/1bGhmVXn4IAnd now rather than letting someone explain what @HillaryClinton actually said, they are now letting @scottieNhughes call her a liarRT @SsssamanthaaMUA: friend: yeah i\\'m going thru a breakup \\n\\nme: ..red or white https://t.co/rGFUgxju05RT @endcorrptninNgr: Actions speak louder than words https://t.co/LxFIuRM0ps@nickasfrick @blemsquad he has the cutest voiceIs it overkill to link normila tweets in both my location and website dbskskNew Otterbox Armor Series Waterproof Phone Case For Apple iPhone 5/5S Neon Green - Bid Now\\u2026 https://t.co/cYyjXHAnir https://t.co/0D3yk0uuolKate Moss Is #Launching Her Own Interior Design Company https://t.co/mSlgJWG4X1 https://t.co/SpUC9sBkbXI only got one video of me after the surgery and I just keep saying \"long live asap yams\" the whole time \\U0001f602\\U0001f602\\U0001f602ask me if im okay https://t.co/KVv4Mu9LDRRT @MissNothingGH: Me meo. #SemifinalGH16Main Message Centre : rattle from instrument cluster https://t.co/wOkfRdywsg #Vauxhall #Mokka@ortega_est98 @jaackyraamos I know lol you never doFrom the \"you had one job\" file... https://t.co/tBAUivZbeA.@timdraper advises entrepreneurs to focus on the core, not on the stock price or valuation -THX @digitalocean\\nhttps://t.co/wAT5qHv5EhRT @Souljaxian: you were my cup of tea.. \\U0001f614\\n\\u2800\\n\\u2800\\n\\u2800\\n\\u2800\\n\\u2800\\n\\u2800\\n\\u2800\\n\\u2800\\n\\u2800\\n\\u2800\\n\\u2800\\n\\u2800\\n\\u2800\\n\\u2800\\n\\u2800\\n\\u2800\\n\\u2800\\n\\u2800\\n\\u2800\\n\\u2800\\n\\u2800\\n\\u2800\\n\\u2800\\n\\u2800\\n\\u2800NOW I SIP LEAN BITCH! FUCK YOU MEAN GANG GANG G\\u2026@tldaquano agree with you I just think it\\'s stupid in the original thing because in that context it makes perfect senseRT @SavageTaiwan: \"If it hurts that means it\\'s working.\" - That has been true in so many situations in my lifeSwear lolbusiness: Inside the secret climate deal between ExxonMobil and the Sierra Club https://t.co/acDkxSKO76 https://t.co/CSxT6ojRLYRT @crenshawkidd: When you get attached you be like \\U0001f643\\U0001f643\\U0001f643\\U0001f643\\U0001f644\\U0001f644\\U0001f644\\U0001f644\\U0001f644\\U0001f60d\\U0001f60d\\U0001f60d\\U0001f60d\\U0001f60d\\U0001f60d\\U0001f60d\\U0001f60d\\U0001f60d\\U0001f60d\\U0001f60d\\U0001f644\\U0001f644\\U0001f644\\U0001f644\\U0001f644\\U0001f644\\U0001f643\\U0001f643\\U0001f643\\U0001f643\\U0001f643\\U0001f643\\U0001f643\\U0001f629\\U0001f629\\U0001f629\\U0001f629\\U0001f629\\U0001f60d\\U0001f60d\\U0001f60d\\U0001f60d\\U0001f643\\U0001f643\\U0001f643\\U0001f644\\U0001f644\\U0001f644\\U0001f60d\\U0001f60d\\U0001f629\\U0001f60d\\U0001f644\\U0001f629\\U0001f629RT @EmiForLove: Thank you and love you SP!!! https://t.co/wrkeKQZ3YQ3:34 PM, I already miss seattle and I\\'m still here. wow I love seattle so much. also everyone here smokes weed in publicTake me to the Festival of Lights \\U0001f638\\U0001f63b\\U0001f44f\\U0001f3fdRT @FiftyShadesEN: I hope I will see her. I miss her. &lt;3 #FiftyShades https://t.co/bUQUMQNlU4RT @Morgan_Shelll: It\\'s so hard for me to not tell kids that Santa isn\\'t real \\U0001f602RT @ZaynJMNews: RCFA: Zayn takes #1 for Best Dressed Men Of The Year 2015 https://t.co/UGv6KAHmmz@erikdlrs123 yeah...RT @ixaaco: Love is a losing game. https://t.co/9OkJc3Ktvz@AnmolSDhut don\\'t drink and be a good influence, that\\'s the way forward \\U0001f601Why the fuck you lying? https://t.co/nYKc4dd6HaOh God I hope she doesn\\'t make me help trim the chicken nails...RT @keyonsay: It was a day after the MV release too.  I was like WTF. And he had blue hair. T\\'was lit. Now I bet he cut it off.  https://t.\\u2026@bhupendrakumar We are remember Gujrat Roits.ou MF. If you have lost some in you home you would have known the pain. https://t.co/s84Duwr6NS\\u26a0\\ufe0fRoseville: Gratiot/Masonic - (Near the Del Taco) Injury car accident.Whoa. This cough syrup made me forget that I made cheeseball for me and Kit. Dairy is great for colds, right?!RT @broookealicious: I\\'m honestly so excitedI hate Bellport literallyRT @Real_Liam_Payne: Why when u film your dog does he always stop being funnyRT @perlapell: Kate McKinnon masterfully played my mom Deenie talking about her soaps on SNL and I will never be the same. https://t.co/QXI\\u2026RT @Jabra_US: RT for Chance 2 Win - Jabra Sport Pace Wireless Fitness Headphones on sale  @Target https://t.co/Onv9dX6pFzI fear my shortbread was not short enough. Guess there is bound to be boo boo\\'s with a first try.RT @WSHHFANS: This gets me every time \\U0001f602 https://t.co/2SZeywJBAuRT @HuskyPicts: I WANT A HUSKY SO BAD \\U0001f60d\\U0001f436 https://t.co/zPrcSmHLQrI\\'m solidI added a video to a @YouTube playlist https://t.co/LzvWX2ksAP Soft Jazz Sexy Instrumental Relaxation Saxophone Music 2013 CollectionAnd learn to breath through it...saying to ourselves...this too shall pass...RT @FreakingTrue: can 2016 be the year that my life falls into place that would be great thanksGet Weather Updates from The Weather Channel. 18:34:54RT @CookieGrandma60: #Etsy sellers! Set up your Etsy sales easily with #EtsyOnSale. Click this link to try it free!  https://t.co/hnpXgbk1JBHow many will dare to say they are not Christian at Christmas day? https://t.co/My0GzAEJ2aRT @CloudN9neSyrup: When you\\'re the only friend with syrup: https://t.co/dQW8K27sgqRT @shaymitch: ...Is the key \\u2728\\U0001f511 https://t.co/6IFYV4eGuh@TorturdCyclone I\\'d love to ask a few people this.RT @WW1DUpdates: #Video Louis with Danielle singing Happy Birthday to her cousin -S Via @lounielle  https://t.co/VVMEf0HxI8Get Weather Updates from The Weather Channel. 18:34:54Get Weather Updates from The Weather Channel. 18:34:54RT @ryan_agonciLLo: PEOPLE ASIA MAGAZINE COVERED BY ALDUB WAS ALREADY SOLD OUT AFTER IT WAS RELEASED 46HOURS AGO. #ALDUBMyBebeLoveParade ht\\u2026RT @davinespice: What Does Your Date Of Birth Reveal About Your Personality? \\n https://t.co/tahxTGFSdP https://t.co/QBD2MBzKj5RT @jacobsartorius: you smile = I smileGet Weather Updates from The Weather Channel. 18:34:54Get Weather Updates from The Weather Channel. 18:34:54vance hands are soft af\\U0001f914\\U0001f62dRT @leeeyah_: A little whitegirltease \\U0001f445 https://t.co/HcdlDoRgcWRT @davinespice: What Does Your Date Of Birth Reveal About Your Personality? \\n https://t.co/tahxTGFSdP https://t.co/QBD2MBzKj5I liked a @YouTube video from @fazereplayys https://t.co/KMli8jRAZV Private Session #4RT @parrillasgang: @LanaParrilla #ThankYouLana for loving and caring so much about all us.Thank you, just for being you. \\u2661 https://t.co/RXE\\u2026RT @_ChristianCash: Part 2 https://t.co/dZybgNsSKeWhat to do with large dining room? (Pic): Now that I\\'m retired, time for an apartment makeover... https://t.co/7hDCtfMAe3 #interiordesignRT @OriginalFunko: RT &amp; follow @OriginalFunko for a chance to win a Santa Jack Dorbz! Six winners chosen! https://t.co/Ox7evMJS3f@smartguy316 lol I forgot the be lolGet Weather Updates from The Weather Channel. 18:34:54Yes, I\\'ve decided, you are my fav in BigBang... Congratulation!!! @ForvictoRiRT @gemmacorrell: You better watch out\\nBetter not cry\\nBetter not pout\\nI\\'m telling u why\\nPatriarchy discourages men from displaying emotions\\u2026Get Weather Updates from The Weather Channel. 18:34:54RT @fuzzycuntkins: so basically you are saying that women condone domestic violence by dating black men from the lower class? https://t.co/\\u2026RT @davidscottjaffe: Hey! Would anyone like some DRAWN TO DEATH codes? There\\'s 1000 of them right here! Hope to see some of y\\'all online! :\\u2026and I literally believed them@Jakey98x Same\\U0001f602 I\\'d rather live a few more years before I pack it in\\U0001f602@namastemurissa @Kristinturnerrr ur great \\U0001f496I posted a new photo to Facebook https://t.co/3mCw5BaR2VRT @CloudN9neSyrup: When you\\'re the only friend with syrup: https://t.co/dQW8K27sgq@spbajko time to get ridChannel Updates - Double Uploads Over Christmas Break! https://t.co/2ADkj64O28RT @CloudN9neSyrup: When you\\'re the only friend with syrup: https://t.co/dQW8K27sgqRT @KM_Heartbreaker: Log off until 2016 \\U0001f602\\U0001f602\\U0001f602 https://t.co/PMjPrLQTbm@RemixNv |  @DisobeyNation @DisobeyVeral @OGIlluminaughty @JustKnowitzDJ @OmgLynxx \\nCHECKOUT MY NEW PORT \\nhttps://t.co/oOJKsjHJkc@harry_styles\\n\\nyou\\'re a sky full of stars\\nI\\'m gonna give you my heart\\nyou light up the path \\nI love you \\uff61\\u2727\\u2727\\u2661 \\nplease follow me? \\n\\n\\u2014 20,152RT @propriator: &lt;3  Online sales: #Etsy Offering #Antiques, #Collectibles &amp; more 4U! https://t.co/QLnVichQPw @EstateFinds4u2   &lt;3Best album of the year by a \"Country Mile\" in my opinion ! @ZoltanBathory @FFDP @5FDPChrisKael @jasonhook_5fdp https://t.co/f0LCamVXG5RT @__sararae__: Texas: three days from Christmas and your wearing shorts \\U0001f61bmy break from coaching/work/school starts rn \\u263a\\ufe0fHood screaming WhoopWW 2 Newspaper 1944 December 22 Yanks Stem Nazi Drive  Lot 1512C https://t.co/Yr3OvvXuWc https://t.co/AIUvuxZgG1Sclerotherapy (treating spider veins) on the legs. For medical education- NSFE.\\n https://t.co/r8CvA8wpVt https://t.co/SpPRoNt3eFRT @Dory: I hope my friends carry me to my funeral like this https://t.co/iyh4QLkZFGRT @UKBanter: When your mum asks who ate all the Christmas food #TattooFixersE4 https://t.co/vpv0nwyGdOManuel Lanzini, The Jewel at West Ham, wants to sparkle at new Hammers\\' palace https://t.co/IzMiLjUijz#Fresher\\'s #Waiting For Results Apply For Bpocall Center Jobs 9342431048 https://t.co/C89p9gty3A https://t.co/RNQtwpYg25Sarkodie say make we save money buy land but this Friday #RapperholicConcert he dey ghc 80 and ghc150 VIP...should we attend?# hand to mouthitsgagaseason6: #MTVStarOf2015 Lady Gaga https://t.co/EMDHzuEt6GRT @BiIlionaires: Stone house looks so nice \\U0001f60a https://t.co/Na49LJ58WxRT @SocialInBoston: Things to Do Today in Boston: https://t.co/j6xZ1DtBC3forever hating ignorant people manI\\'ll throw down with any of these coyotes fans, come at me \\U0001f602RT @Princessofwifi: when he knows ur crazy but he still wants ur ass http://t.co/dlbeT4xOVPVideo: Sneaker Shopping With Rick Ross! https://t.co/cgxRqamluXLiam\\'s new layout :(@thatgirlzah_ @jeSuis_noir do u need helpWin the Big Show Food Gift Assortment from  on  Blog Ends 12-22    https://t.co/YZohP6dOMKFound a Transponder Snail!\\nA whale of an encounter! \"We\\'ll meet here again!\"\\nhttps://t.co/Ttsu2xtoWd #TreCru https://t.co/cxeq1VU5NgRT @Kneevyl: I\\'ll believe you\\'re human when you start acting like one.RT @LilJonny3: @SportsCenter @TyDunne cool, so they can  all watch the playoffs together.RT @Luke5SOS: This will never not be awesome https://t.co/p6SxQSpUbhRT @SoReIatable: can we talk about how important this is https://t.co/SmeuHDrW5NRT @pacovillatorojr: Ya no se que ver en netflixLooking for a Senior Digital Analyst in Chicago, IL https://t.co/lxQbcE5Ox9 #job@fcbayern55 @dery1051 I wish that was me! #Puddy #YeahThatsRight #TheDevvvilsRT @ovoari_: \"@princesslaaani: I love pizza Nora so much I don\\'t think anyone understands lol\" Gavin mightRT @JRothenbergTV: BOOM! Up and Comers Presents: Our Top 10 TV Shows of 2015 https://t.co/ageSAV3Kjy via @upandcomers #The100Amy Schumer Jokes That John Cena Was \\u2018Actually Inside\\u2019 Her During Their \\u2018Trainwreck\\u2019 Sex Scene https://t.co/iUmoNI46e7RT @BILLYNUMINOUS: She tastes like peaches &amp; s(cream)s https://t.co/dOnUrdnwK8RT @DJKhaledSpeaks: Lmfaoo please tell me this aint real \\U0001f629\\U0001f602 https://t.co/r8xvhEF0pLWhen @rkaybilliet buys you the absolute BEST PRESENT IN THE WORLD I AM CRYIN \\u2764\\ufe0f\\u2764\\ufe0f https://t.co/r1w7UJwcxe@skyxprisa @JRothenbergTV @MisElizaJane @DebnamCarey THIS IS ACCURATE!\\n#TOOGAYTODIE@SaiyanOfHeart \"This is my true form.\" He uttered out.Before and after red lipstick lol https://t.co/4hl23fUbVsTor.rid \"@yashalevine: We getting downright creepy here: \"building a relationship w/ @Snowden using Tor\" https://t.co/MEcNtuZE0D\"Don\\'t nobody fw me \\U0001f61fRT @strounglove: last christmas\\ni gave you my heart\\nbut the very next day\\nyouwenttochicagoandheldagirlshandanditreallypissedmeoffigaveyoumy\\u2026RT @ChinaCoolGadget: GOR Ultra Slim High Definition Screen Protector For BlackBerry Q30 https://t.co/v0aSJt0zuZ #china #cool #gadgets https\\u2026@bellaf__ ewww how was the dundalk campus?RT @AliaEzan: i need your love. i need your lolololololove.Senior leaders congratulate traditional Chinese medicine academy on 60th ... - Xinhua https://t.co/kgQIN1cs2B #AlternativeMedicineRT @davinespice: What Does Your Date Of Birth Reveal About Your Personality? \\n https://t.co/tahxTGFSdP https://t.co/QBD2MBzKj5my cousin won\\'t stop play how many times im lauagbffgOfficially my #favorite character in #dragonquestheroestheworldtreeswoeandtheblightbelow\\u2026 https://t.co/g0PPi0LN1IPass it on #BrandNewByAustinMahone  https://t.co/EXiDH5kT79Can you guess what this is? https://t.co/ip56vOaNhc@Trill_Soliloquy no lol that whole roast. The chick is mad annoying lol her logic is trash@speakingonkenya your damn beditskawdashians: itskawdashians: LadyGaGa___News: #Beauty #LadyGaga The Fame Monster by Lady Gaga (#CD, Nov-2009, Kon Live) \\u2026@ABmorrisy this is a christmas miracle xJust a tad crazy about these snow princesses... https://t.co/CBalzvo1O1@JEB1_Official loooool I jus love Grime mate so the more I can listen to the better, that Balrog Riddim mate &gt;&gt;&gt;&gt;&gt;&gt;&gt;&gt;&gt;&gt;&gt;RT @SoDamnTrue: Burger King went straight savage https://t.co/2hvYjk4ufdRT @_trapical: it sucks, because i was all about uRT @Lmao: Me when I\\'m proving a point https://t.co/r83ohZZfPBI don\\'t want complicatedif all you post about is how you\\'re over someone. newsflash, you\\'re not over them!\\U0001f602RT @Bryan_Levine: Boys Basketball: Sarasota leads Lemon Bay 30-23 at the half.\\uff2012345 https://t.co/7SY1XmSQ3Z December 23, 2015 at 08:19AM #\\u3048\\u3069\\u304c\\u308f\\u30a4\\u30b1\\u30e1\\u30f3RT @justforIaugh: I broke up with my gym, we were just not working out.If I have seen further, it is by standing on the shoulders of giants. \\u2013 Isaac NewtonYou can visit the Stephon Marbury museum next time you hit Beijing. https://t.co/5oxK07j5DI https://t.co/9HfJejF2GRRT @deepsouI: I either have no emotions or too many.brahhsss lolRT @raloo_: i be in this room alldayRT @BAP_Bangyongguk: LEAVE FOR \\u2708\\ufe0f\\u2708\\ufe0f\\u2708\\ufe0f #TOKYO@Morganjoannn im mad https://t.co/Xq4zBlgPon\"You have friends\"\\n\\n\"No I got bitches we dont use \"Friend\" anymore\"Stop confusing facts with your opinion@InfoAtROBLOX My friend got hacked, and she lost some of her items. Anything you can do to help with this?RT @RenaLovelis: surprisingly it is not the first time i\\'ve eaten two crepes in one sitting in the past week \\U0001f629RT @memphisdaily: DIGEST: Memphis wins @google honors, @memgrizz want your All-Star vote, and more https://t.co/oHD7NEP2VcNever fails to get harder and harder each time \\U0001f605RT @Refugees: Enormous suffering inside Syria continues: our chief\\u2019s remarks today @UN #SecurityCouncil https://t.co/DiyoIiks48 https://t.c\\u2026So funny how people are. They will put you on a pedestal, and, as soon as you make a mistake they will try to pull you down.RT @GrahamPenrose2: A Beginner\\'s Guide to being a #German Politician https://t.co/CkJCE9f0NN #Merkel #Refugees #Jihad #RadicalIslam #IS htt\\u2026RT @Ariannasaurus: Blog Post: WoW Legion and the Dark Ranger fantasy, as a tentative MM Hunter build. #Warcraft https://t.co/b4OMUA5Zx7 htt\\u2026RT @YesJulz: People grow apart it\\'s a part of life.RT @WTK: Eden of the East Complete Series BD PE trailer + packaging preview https://t.co/CWyvSqX2nW https://t.co/Fyyxaq4YCQ https://t.co/hI\\u2026RT @davinespice: What Does Your Date Of Birth Reveal About Your Personality? \\n https://t.co/tahxTGFSdP https://t.co/QBD2MBzKj5RT @Recognized: It be like that sometimes. https://t.co/hk1O0SFRI0Certain moves just can\\'t be respected regardless of reasoningRT @realliveV: Unveiling #iKON\\u2019s new song &lt;DUMB &amp; DUMBER&gt; MV making film for the first time. \\u25b6https://t.co/GOj21maga0 https://t.co/y7RSTIS7\\u2026RT @Pornhub: I heard #OneDirection is taking a hiatus to focus on their porn careers. http://t.co/2ol2hSFxhBDo you want a solo dm with Liam? Read my bio. https://t.co/H0k6qVjzkX@DreaAlGhul sachel idk how to spell it@1981RamenBar hi do you guys do takeout orders? Couldn\\'t find a working phone number on your website.Man to my left is apparently having an epic whisper rap battle against himself. Man to my right is slowly slumping onto me \\U0001f629RT @wizkhalifa: Continuous smoke.Amanda\\'s not here until Saturday, so my nights shall be filled with Chinese food and using way too much electricity!So much fun Ice skating with this one\\u2764\\ufe0f\\u26f8 nicolette_u #ice #skating\\u2026 https://t.co/jKFbbxusxyRetweeted Jon Olson (@theTEguy):\\n\\n3 Reasons Why You Are Failing #Plus1Daily https://t.co/Z0VPv4gFhF #blab... https://t.co/NWFPxFfeuPRT @ThirtySecFights: \"There\\'s another one\" lmfao they\\'re so excited \\U0001f602\\U0001f602 https://t.co/VqQGInBzTw@_daddychrollo OK I WILLMy life in a tweet. @SuccubusQueenxRT @samanthaevans92: Just asked mum if my Christmas present this year could be spending Christmas without @Hevans2010\\u25d5\\u272f Microsoft Xbox 360 Slim 250GB Console WIFI Kinect Ready https://t.co/spC7a8ej6g https://t.co/Cdei9BXK9ORT @HBadreldinn: Politeness has become so rare that people mistake it for flirting.RT @ALISHAMARIE: Hi!!! I uploaded a new video yesterday...did you see it?! \\U0001f49e\\U0001f631\\U0001f389\\U0001f5a5\\U0001f481\\U0001f3fc https://t.co/TrwyDQCW91RT @bangshift: Good news: you can get Ferrari Lampredi heads. Bad news? $60 grand per set. https://t.co/cba3YahKv0 https://t.co/N2eVXYLv3xSomething we would do \\U0001f602 @mavin_muziq  https://t.co/HF78Kqi6kRRT @djkhvled: If DJ Khaled got his girl pregnant.. \\U0001f602\\U0001f480 https://t.co/bHrMnx53EfRT @FemaleTexts: I lounge around way too much to not own these https://t.co/b6SP20LrSRRT @AlDubForever_: Beautiful shots! #ALDUBMyBebeLoveParade https://t.co/HITdbzZL1cRT @BFREANDAFTER: Ed Sheeran https://t.co/ywrQFwHKp6eternal mood: here by alessia caraBut Real women do \\U0001f4af https://t.co/mbFYXFNwcS@onyourfuton mine counts for tenRT @sorrybieber: remember when justin used to put plasters on his fingers lmaoRT @girlgroupzone: [V App] 2015 KBS Gayo Daechukjae Event:\\n23 VIXX (8PM)\\n24 BTS (7PM)\\n25 EXO (9PM)\\n26 SHINee (2PM)\\n27 Apink (7PM)\\n28 GOT7 (\\u2026@Osmarkismexi trust me it is lol my dad is the most ignorant unintelligent piece of dick and I\\'ve managed to just keep my mouth shutPOTD! Which version of Kingdom Hearts 2 do you prefer? https://t.co/gieyxhnNlb #KingdomHearts https://t.co/SsmFsqC1FVSo bored \\U0001f62d\\U0001f628\\U0001f62ahttps://t.co/TkZ6GXuBBh 2011 DS Nike AIR JORDAN Year Of The Rabbit \"China edition\"  sz 8  XI 72 10my dad just ripped my white t shirt and im still wearing itRT @jlist: Countdown to Christmas Giveaway! Win your choice of a 2016 calendar from Japan! Details at https://t.co/758c07xJRp https://t.co/\\u2026Relationships they nosedive while one\\'s career is taking off@BaldBandit43 @CanuckBassin @Anglers_Choice @LiquidMayhem_ @KamookiLures @SEMoutdoors @THERODGLOVE @MEGA_JIGS thank you@_w3irdkid suck it up kidRT @UpperCutDemHoes: Mom: \"I want you in the house by 10 pm\"\\nMe: https://t.co/pPTIpo2GZgRT @VanessaHudgens: Follow meeeeee: gypsybanessa https://t.co/rjd4DFkNqyRT @eliif_hrn: The Fandom right now #WeAreAll1D #WeAreAll1Dfollowparty https://t.co/JCXmPXrzckPhil Harris -  The Thing #nowplaying on Halloweenradio Oldies   #onair@squichysugg when I\\'m 16 u better have a house so I can live with uRT @NiaLovelis: im so happy. I hope everyone is having a great day.. and if not, im sending you loads of love and smiles and happy vibes\\U0001f495RT @CerysTrayner: If anyone would like to send me some seaweed @maraseaweed - it would be greatly appreciated!! \\U0001f600 C/o Aviemore Post Office \\u2026RT @callaandclover: Our ivory Velveteen Pillows with a touch of gold https://t.co/tQctczI9ES #SmallBizSat #SmallBizSaturday #giftideas http\\u2026my brother is on the phone and i just yelled out \"fUCK THAT GET MONEY\"RT @LitFreestyles: They went in \\U0001f525\\U0001f3a4\\U0001f48e https://t.co/mVTfZqQbkIRT @camilacabello97: @troyesivan @alessiacara omg hey can i join thisRT @ThirtySecFights: It\\'s that time of year \\u26c4\\ufe0f https://t.co/g1h8FrCuX3RT @CollinsKey: I\\'m lowkey afraid of getting my heart broken \\U0001f494RT @jackgilinsky: we gotta get one of those chino cam nights goin again lol https://t.co/aHEqP9MpM9RT @KardashianReact: christmas wish list: \\n\\n1. Nate Archibald \\n2. my personal Dorota \\n3. Serena\\'s clothes \\n4. Dan\\'s grades \\n5. Blair and Ch\\u2026@Uhlexee PLEATH'"
      ]
     },
     "execution_count": 90,
     "metadata": {},
     "output_type": "execute_result"
    }
   ],
   "source": [
    "text"
   ]
  },
  {
   "cell_type": "code",
   "execution_count": 98,
   "metadata": {
    "collapsed": false
   },
   "outputs": [
    {
     "name": "stdout",
     "output_type": "stream",
     "text": [
      "nb sequences: 215692\n"
     ]
    }
   ],
   "source": [
    "char_indices = dict((c, i) for i, c in enumerate(chars))\n",
    "indices_char = dict((i, c) for i, c in enumerate(chars))\n",
    "tweets = []\n",
    "next_chars = []\n",
    "for i in range(0, len(text) - maxlen, step):\n",
    "    tweets.append(text[i: i + maxlen])\n",
    "    next_chars.append(text[i + maxlen])\n",
    "print('nb sequences:', len(tweets))"
   ]
  },
  {
   "cell_type": "code",
   "execution_count": 101,
   "metadata": {
    "collapsed": false
   },
   "outputs": [
    {
     "name": "stdout",
     "output_type": "stream",
     "text": [
      "Build model...\n"
     ]
    }
   ],
   "source": [
    "print('Build model...')\n",
    "model = Sequential()\n",
    "model.add(LSTM(512, return_sequences=True, input_shape=(maxlen, len(chars))))\n",
    "model.add(Dropout(0.2))\n",
    "model.add(LSTM(512, return_sequences=False))\n",
    "model.add(Dropout(0.2))\n",
    "model.add(Dense(len(chars)))\n",
    "model.add(Activation('softmax'))\n",
    "\n",
    "model.compile(loss='categorical_crossentropy', optimizer='rmsprop')"
   ]
  },
  {
   "cell_type": "code",
   "execution_count": 104,
   "metadata": {
    "collapsed": false
   },
   "outputs": [
    {
     "data": {
      "text/plain": [
       "215692"
      ]
     },
     "execution_count": 104,
     "metadata": {},
     "output_type": "execute_result"
    }
   ],
   "source": [
    "X = np.zeros((len(tweets), maxlen, len(chars)), dtype=np.bool)\n",
    "y = np.zeros((len(tweets), len(chars)), dtype=np.bool)\n",
    "for i, tweet in enumerate(tweets):\n",
    "    for t, char in enumerate(tweet):\n",
    "        X[i, t, char_indices[char]] = 1\n",
    "    y[i, char_indices[next_chars[i]]] = 1\n",
    "len(y)"
   ]
  },
  {
   "cell_type": "code",
   "execution_count": null,
   "metadata": {
    "collapsed": false
   },
   "outputs": [
    {
     "name": "stdout",
     "output_type": "stream",
     "text": [
      "(215692, 628)\n",
      "\n",
      "--------------------------------------------------\n",
      "Iteration 1\n",
      "Epoch 1/1\n",
      "  2176/215692 [..............................] - ETA: 7286s - loss: 3.7860"
     ]
    }
   ],
   "source": [
    "for iteration in range(1, epochs):\n",
    "    print(y.shape)\n",
    "    print()\n",
    "    print('-' * 50)\n",
    "    print('Iteration', iteration)\n",
    "    model.fit(X, y, batch_size=128, nb_epoch=1)\n",
    "\n",
    "    start_index = random.randint(0, len(text) - maxlen - 1)\n",
    "\n",
    "    for diversity in [0.2, 0.5, 1.0, 1.2]:\n",
    "        print()\n",
    "        print('----- diversity:', diversity)\n",
    "\n",
    "        generated = ''\n",
    "        sentence = text[start_index: start_index + maxlen]\n",
    "        generated += sentence\n",
    "        print('----- Generating with seed: \"' + sentence + '\"')\n",
    "        sys.stdout.write(generated)\n",
    "\n",
    "        for iteration in range(400):\n",
    "            x = np.zeros((1, maxlen, len(chars)))\n",
    "            for t, char in enumerate(sentence):\n",
    "                x[0, t, char_indices[char]] = 1.\n",
    "\n",
    "            preds = model.predict(x, verbose=0)[0]\n",
    "            next_index = sample(preds, diversity)\n",
    "            next_char = indices_char[next_index]\n",
    "\n",
    "            generated += next_char\n",
    "            sentence = sentence[1:] + next_char\n",
    "\n",
    "            sys.stdout.write(next_char)\n",
    "            sys.stdout.flush()\n",
    "        print()"
   ]
  },
  {
   "cell_type": "code",
   "execution_count": null,
   "metadata": {
    "collapsed": true
   },
   "outputs": [],
   "source": []
  }
 ],
 "metadata": {
  "kernelspec": {
   "display_name": "Python 2",
   "language": "python",
   "name": "python2"
  },
  "language_info": {
   "codemirror_mode": {
    "name": "ipython",
    "version": 2
   },
   "file_extension": ".py",
   "mimetype": "text/x-python",
   "name": "python",
   "nbconvert_exporter": "python",
   "pygments_lexer": "ipython2",
   "version": "2.7.10"
  }
 },
 "nbformat": 4,
 "nbformat_minor": 0
}
